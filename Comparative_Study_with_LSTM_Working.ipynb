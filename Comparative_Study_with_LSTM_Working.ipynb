{
  "cells": [
    {
      "cell_type": "code",
      "execution_count": 8,
      "metadata": {
        "id": "8EjM_DAs1zuN"
      },
      "outputs": [],
      "source": [
        "!pip install -q texthero"
      ]
    },
    {
      "cell_type": "code",
      "execution_count": 9,
      "metadata": {
        "id": "vyiK7fui2NRe"
      },
      "outputs": [],
      "source": [
        "! pip install -q scikit-multilearn"
      ]
    },
    {
      "cell_type": "code",
      "execution_count": 10,
      "metadata": {
        "id": "IyLsYrvx2RPD"
      },
      "outputs": [],
      "source": [
        "! pip install -q transformers"
      ]
    },
    {
      "cell_type": "code",
      "execution_count": 11,
      "metadata": {
        "id": "T-CwoOZH2UIk"
      },
      "outputs": [],
      "source": [
        "!pip install -q tensorflow-text"
      ]
    },
    {
      "cell_type": "code",
      "execution_count": null,
      "metadata": {
        "colab": {
          "base_uri": "https://localhost:8080/"
        },
        "id": "AwCtnQm22Xe2",
        "outputId": "f2c926a5-38fc-45da-a5fe-7d77524b6104"
      },
      "outputs": [
        {
          "name": "stdout",
          "output_type": "stream",
          "text": [
            "\u001b[K     |████████████████████████████████| 2.1 MB 7.0 MB/s \n",
            "\u001b[K     |████████████████████████████████| 43 kB 1.8 MB/s \n",
            "\u001b[K     |████████████████████████████████| 47.8 MB 1.2 MB/s \n",
            "\u001b[K     |████████████████████████████████| 92 kB 7.3 MB/s \n",
            "\u001b[K     |████████████████████████████████| 237 kB 43.6 MB/s \n",
            "\u001b[K     |████████████████████████████████| 99 kB 8.4 MB/s \n",
            "\u001b[K     |████████████████████████████████| 1.2 MB 46.0 MB/s \n",
            "\u001b[K     |████████████████████████████████| 352 kB 48.9 MB/s \n",
            "\u001b[K     |████████████████████████████████| 1.1 MB 12.8 MB/s \n",
            "\u001b[K     |████████████████████████████████| 636 kB 24.9 MB/s \n",
            "\u001b[?25h  Building wheel for py-cpuinfo (setup.py) ... \u001b[?25l\u001b[?25hdone\n",
            "  Building wheel for seqeval (setup.py) ... \u001b[?25l\u001b[?25hdone\n"
          ]
        }
      ],
      "source": [
        "!pip install -q tf-models-official"
      ]
    },
    {
      "cell_type": "markdown",
      "metadata": {
        "id": "X4YT00Gmw7e-"
      },
      "source": [
        "Data Exploration"
      ]
    },
    {
      "cell_type": "code",
      "execution_count": 12,
      "metadata": {
        "colab": {
          "base_uri": "https://localhost:8080/"
        },
        "id": "k5szhNBWrZmf",
        "outputId": "bd29a0c1-0828-40f2-9783-1eb9a52e6120"
      },
      "outputs": [
        {
          "output_type": "stream",
          "name": "stdout",
          "text": [
            "Mounted at /content/drive\n"
          ]
        }
      ],
      "source": [
        "\n",
        "from google.colab import drive\n",
        "drive.mount('/content/drive')"
      ]
    },
    {
      "cell_type": "code",
      "execution_count": 13,
      "metadata": {
        "id": "H6N9VjOsBVpV"
      },
      "outputs": [],
      "source": [
        "import pandas as pd\n",
        "import numpy as np\n",
        "import matplotlib.pyplot as plt\n",
        "import seaborn as sns\n",
        "sns.set_style(\"whitegrid\")\n",
        "#sns.set(font_scale=1)\n",
        "# Read data\n",
        "df = pd.read_csv(\"/content/drive/MyDrive/ST Dataset/train.csv\")"
      ]
    },
    {
      "cell_type": "code",
      "execution_count": 14,
      "metadata": {
        "colab": {
          "base_uri": "https://localhost:8080/"
        },
        "id": "861Vy6N0CkIN",
        "outputId": "7609bb5d-4ccd-4cc3-ecce-b07089540013"
      },
      "outputs": [
        {
          "output_type": "stream",
          "name": "stdout",
          "text": [
            "Number of rows: 159571\n",
            "Number of columns: 8\n"
          ]
        }
      ],
      "source": [
        "print(f\"Number of rows: {df.shape[0]}\")\n",
        "print(f\"Number of columns: {df.shape[1]}\")"
      ]
    },
    {
      "cell_type": "code",
      "execution_count": 15,
      "metadata": {
        "colab": {
          "base_uri": "https://localhost:8080/",
          "height": 206
        },
        "id": "hvxa7r7WC0d3",
        "outputId": "d69816d2-8f02-43b7-d423-5db292ec5b10"
      },
      "outputs": [
        {
          "output_type": "execute_result",
          "data": {
            "text/plain": [
              "                 id                                       comment_text  toxic  \\\n",
              "0  0000997932d777bf  Explanation\\nWhy the edits made under my usern...      0   \n",
              "1  000103f0d9cfb60f  D'aww! He matches this background colour I'm s...      0   \n",
              "2  000113f07ec002fd  Hey man, I'm really not trying to edit war. It...      0   \n",
              "3  0001b41b1c6bb37e  \"\\nMore\\nI can't make any real suggestions on ...      0   \n",
              "4  0001d958c54c6e35  You, sir, are my hero. Any chance you remember...      0   \n",
              "\n",
              "   severe_toxic  obscene  threat  insult  identity_hate  \n",
              "0             0        0       0       0              0  \n",
              "1             0        0       0       0              0  \n",
              "2             0        0       0       0              0  \n",
              "3             0        0       0       0              0  \n",
              "4             0        0       0       0              0  "
            ],
            "text/html": [
              "\n",
              "  <div id=\"df-81cafa4d-81d7-461e-a3e9-f614396508ac\">\n",
              "    <div class=\"colab-df-container\">\n",
              "      <div>\n",
              "<style scoped>\n",
              "    .dataframe tbody tr th:only-of-type {\n",
              "        vertical-align: middle;\n",
              "    }\n",
              "\n",
              "    .dataframe tbody tr th {\n",
              "        vertical-align: top;\n",
              "    }\n",
              "\n",
              "    .dataframe thead th {\n",
              "        text-align: right;\n",
              "    }\n",
              "</style>\n",
              "<table border=\"1\" class=\"dataframe\">\n",
              "  <thead>\n",
              "    <tr style=\"text-align: right;\">\n",
              "      <th></th>\n",
              "      <th>id</th>\n",
              "      <th>comment_text</th>\n",
              "      <th>toxic</th>\n",
              "      <th>severe_toxic</th>\n",
              "      <th>obscene</th>\n",
              "      <th>threat</th>\n",
              "      <th>insult</th>\n",
              "      <th>identity_hate</th>\n",
              "    </tr>\n",
              "  </thead>\n",
              "  <tbody>\n",
              "    <tr>\n",
              "      <th>0</th>\n",
              "      <td>0000997932d777bf</td>\n",
              "      <td>Explanation\\nWhy the edits made under my usern...</td>\n",
              "      <td>0</td>\n",
              "      <td>0</td>\n",
              "      <td>0</td>\n",
              "      <td>0</td>\n",
              "      <td>0</td>\n",
              "      <td>0</td>\n",
              "    </tr>\n",
              "    <tr>\n",
              "      <th>1</th>\n",
              "      <td>000103f0d9cfb60f</td>\n",
              "      <td>D'aww! He matches this background colour I'm s...</td>\n",
              "      <td>0</td>\n",
              "      <td>0</td>\n",
              "      <td>0</td>\n",
              "      <td>0</td>\n",
              "      <td>0</td>\n",
              "      <td>0</td>\n",
              "    </tr>\n",
              "    <tr>\n",
              "      <th>2</th>\n",
              "      <td>000113f07ec002fd</td>\n",
              "      <td>Hey man, I'm really not trying to edit war. It...</td>\n",
              "      <td>0</td>\n",
              "      <td>0</td>\n",
              "      <td>0</td>\n",
              "      <td>0</td>\n",
              "      <td>0</td>\n",
              "      <td>0</td>\n",
              "    </tr>\n",
              "    <tr>\n",
              "      <th>3</th>\n",
              "      <td>0001b41b1c6bb37e</td>\n",
              "      <td>\"\\nMore\\nI can't make any real suggestions on ...</td>\n",
              "      <td>0</td>\n",
              "      <td>0</td>\n",
              "      <td>0</td>\n",
              "      <td>0</td>\n",
              "      <td>0</td>\n",
              "      <td>0</td>\n",
              "    </tr>\n",
              "    <tr>\n",
              "      <th>4</th>\n",
              "      <td>0001d958c54c6e35</td>\n",
              "      <td>You, sir, are my hero. Any chance you remember...</td>\n",
              "      <td>0</td>\n",
              "      <td>0</td>\n",
              "      <td>0</td>\n",
              "      <td>0</td>\n",
              "      <td>0</td>\n",
              "      <td>0</td>\n",
              "    </tr>\n",
              "  </tbody>\n",
              "</table>\n",
              "</div>\n",
              "      <button class=\"colab-df-convert\" onclick=\"convertToInteractive('df-81cafa4d-81d7-461e-a3e9-f614396508ac')\"\n",
              "              title=\"Convert this dataframe to an interactive table.\"\n",
              "              style=\"display:none;\">\n",
              "        \n",
              "  <svg xmlns=\"http://www.w3.org/2000/svg\" height=\"24px\"viewBox=\"0 0 24 24\"\n",
              "       width=\"24px\">\n",
              "    <path d=\"M0 0h24v24H0V0z\" fill=\"none\"/>\n",
              "    <path d=\"M18.56 5.44l.94 2.06.94-2.06 2.06-.94-2.06-.94-.94-2.06-.94 2.06-2.06.94zm-11 1L8.5 8.5l.94-2.06 2.06-.94-2.06-.94L8.5 2.5l-.94 2.06-2.06.94zm10 10l.94 2.06.94-2.06 2.06-.94-2.06-.94-.94-2.06-.94 2.06-2.06.94z\"/><path d=\"M17.41 7.96l-1.37-1.37c-.4-.4-.92-.59-1.43-.59-.52 0-1.04.2-1.43.59L10.3 9.45l-7.72 7.72c-.78.78-.78 2.05 0 2.83L4 21.41c.39.39.9.59 1.41.59.51 0 1.02-.2 1.41-.59l7.78-7.78 2.81-2.81c.8-.78.8-2.07 0-2.86zM5.41 20L4 18.59l7.72-7.72 1.47 1.35L5.41 20z\"/>\n",
              "  </svg>\n",
              "      </button>\n",
              "      \n",
              "  <style>\n",
              "    .colab-df-container {\n",
              "      display:flex;\n",
              "      flex-wrap:wrap;\n",
              "      gap: 12px;\n",
              "    }\n",
              "\n",
              "    .colab-df-convert {\n",
              "      background-color: #E8F0FE;\n",
              "      border: none;\n",
              "      border-radius: 50%;\n",
              "      cursor: pointer;\n",
              "      display: none;\n",
              "      fill: #1967D2;\n",
              "      height: 32px;\n",
              "      padding: 0 0 0 0;\n",
              "      width: 32px;\n",
              "    }\n",
              "\n",
              "    .colab-df-convert:hover {\n",
              "      background-color: #E2EBFA;\n",
              "      box-shadow: 0px 1px 2px rgba(60, 64, 67, 0.3), 0px 1px 3px 1px rgba(60, 64, 67, 0.15);\n",
              "      fill: #174EA6;\n",
              "    }\n",
              "\n",
              "    [theme=dark] .colab-df-convert {\n",
              "      background-color: #3B4455;\n",
              "      fill: #D2E3FC;\n",
              "    }\n",
              "\n",
              "    [theme=dark] .colab-df-convert:hover {\n",
              "      background-color: #434B5C;\n",
              "      box-shadow: 0px 1px 3px 1px rgba(0, 0, 0, 0.15);\n",
              "      filter: drop-shadow(0px 1px 2px rgba(0, 0, 0, 0.3));\n",
              "      fill: #FFFFFF;\n",
              "    }\n",
              "  </style>\n",
              "\n",
              "      <script>\n",
              "        const buttonEl =\n",
              "          document.querySelector('#df-81cafa4d-81d7-461e-a3e9-f614396508ac button.colab-df-convert');\n",
              "        buttonEl.style.display =\n",
              "          google.colab.kernel.accessAllowed ? 'block' : 'none';\n",
              "\n",
              "        async function convertToInteractive(key) {\n",
              "          const element = document.querySelector('#df-81cafa4d-81d7-461e-a3e9-f614396508ac');\n",
              "          const dataTable =\n",
              "            await google.colab.kernel.invokeFunction('convertToInteractive',\n",
              "                                                     [key], {});\n",
              "          if (!dataTable) return;\n",
              "\n",
              "          const docLinkHtml = 'Like what you see? Visit the ' +\n",
              "            '<a target=\"_blank\" href=https://colab.research.google.com/notebooks/data_table.ipynb>data table notebook</a>'\n",
              "            + ' to learn more about interactive tables.';\n",
              "          element.innerHTML = '';\n",
              "          dataTable['output_type'] = 'display_data';\n",
              "          await google.colab.output.renderOutput(dataTable, element);\n",
              "          const docLink = document.createElement('div');\n",
              "          docLink.innerHTML = docLinkHtml;\n",
              "          element.appendChild(docLink);\n",
              "        }\n",
              "      </script>\n",
              "    </div>\n",
              "  </div>\n",
              "  "
            ]
          },
          "metadata": {},
          "execution_count": 15
        }
      ],
      "source": [
        "df.head(5)"
      ]
    },
    {
      "cell_type": "code",
      "execution_count": 16,
      "metadata": {
        "colab": {
          "base_uri": "https://localhost:8080/"
        },
        "id": "BLvjoNIFC48P",
        "outputId": "a6cab3b5-8aef-4b5b-e313-771aabe2495b"
      },
      "outputs": [
        {
          "output_type": "execute_result",
          "data": {
            "text/plain": [
              "id               0\n",
              "comment_text     0\n",
              "toxic            0\n",
              "severe_toxic     0\n",
              "obscene          0\n",
              "threat           0\n",
              "insult           0\n",
              "identity_hate    0\n",
              "dtype: int64"
            ]
          },
          "metadata": {},
          "execution_count": 16
        }
      ],
      "source": [
        "# checking for any null values\n",
        "df.isnull().sum()"
      ]
    },
    {
      "cell_type": "code",
      "execution_count": 17,
      "metadata": {
        "colab": {
          "base_uri": "https://localhost:8080/",
          "height": 355
        },
        "id": "aR9KIp4fDVJ4",
        "outputId": "1bdedb6c-cc87-4efe-a8d6-28445c16ff41"
      },
      "outputs": [
        {
          "output_type": "display_data",
          "data": {
            "text/plain": [
              "<Figure size 720x360 with 1 Axes>"
            ],
            "image/png": "[encoded data removed]"
          },
          "metadata": {}
        }
      ],
      "source": [
        "comment_lengths = [len(comment.split()) for comment in df[\"comment_text\"]]\n",
        "# plot the distribution of tweet lengths\n",
        "plt.figure(figsize=(10,5))\n",
        "sns.histplot(comment_lengths, bins=100);\n",
        "plt.xlabel(\"Comment Length(Number of words)\", fontsize=14);\n",
        "plt.ylabel(\"Number of Comments\", fontsize=14);\n",
        "plt.title(\"Distribution of comment Lengths\", fontsize=14);"
      ]
    },
    {
      "cell_type": "code",
      "execution_count": 18,
      "metadata": {
        "colab": {
          "base_uri": "https://localhost:8080/",
          "height": 499
        },
        "id": "jaQPLHisDZ8t",
        "outputId": "62326462-3c36-4201-e674-72c1ecad438e"
      },
      "outputs": [
        {
          "output_type": "display_data",
          "data": {
            "text/plain": [
              "<Figure size 1440x576 with 6 Axes>"
            ],
            "image/png": "[encoded data removed]"
          },
          "metadata": {}
        }
      ],
      "source": [
        "labels = ['toxic','severe_toxic', 'obscene', 'threat', 'insult', 'identity_hate']\n",
        "fig, ax = plt.subplots(3, 2, figsize=(20,8), sharex=True)\n",
        "axes =ax.ravel()\n",
        "for i in range(6):\n",
        "  comments = df.loc[df[labels[i]] == 1, :]\n",
        "  comment_len = [len(comment.split()) for comment in comments[\"comment_text\"]]\n",
        "  sns.histplot(comment_len, ax=axes[i], bins = 150);\n",
        "  axes[i].title.set_text(labels[i]);"
      ]
    },
    {
      "cell_type": "markdown",
      "metadata": {
        "id": "eX7cUUS6DzaQ"
      },
      "source": [
        "Distribution of Labels"
      ]
    },
    {
      "cell_type": "code",
      "execution_count": 19,
      "metadata": {
        "colab": {
          "base_uri": "https://localhost:8080/",
          "height": 337
        },
        "id": "1sT98H6uD1cH",
        "outputId": "02a86f6c-f0d4-49fd-df55-f57b75ceb6b5"
      },
      "outputs": [
        {
          "output_type": "display_data",
          "data": {
            "text/plain": [
              "<Figure size 720x360 with 1 Axes>"
            ],
            "image/png": "[encoded data removed]"
          },
          "metadata": {}
        }
      ],
      "source": [
        "labels_count = df[labels].sum()\n",
        "plt.figure(figsize = (10,5))\n",
        "sns.barplot(x = labels_count.index,y = labels_count.values);\n",
        "plt.title(\"Number of Comments in each label\");\n",
        "plt.ylabel(\"Number of Comments\");"
      ]
    },
    {
      "cell_type": "code",
      "execution_count": 20,
      "metadata": {
        "colab": {
          "base_uri": "https://localhost:8080/"
        },
        "id": "JWB9-F_FEPKH",
        "outputId": "bd022962-d6c3-4f22-c133-8c1a22675d5b"
      },
      "outputs": [
        {
          "output_type": "execute_result",
          "data": {
            "text/plain": [
              "0    143346\n",
              "1      6360\n",
              "3      4209\n",
              "2      3480\n",
              "4      1760\n",
              "5       385\n",
              "6        31\n",
              "dtype: int64"
            ]
          },
          "metadata": {},
          "execution_count": 20
        }
      ],
      "source": [
        "#check to see number of labels that a comment have.\n",
        "multilabel_count = df[labels].sum(axis = 1).value_counts()\n",
        "multilabel_count"
      ]
    },
    {
      "cell_type": "code",
      "execution_count": 21,
      "metadata": {
        "colab": {
          "base_uri": "https://localhost:8080/",
          "height": 353
        },
        "id": "gwKH6BfyEW4J",
        "outputId": "2c4105a1-b521-4c47-c8e5-aaba38dd2522"
      },
      "outputs": [
        {
          "output_type": "display_data",
          "data": {
            "text/plain": [
              "<Figure size 720x360 with 1 Axes>"
            ],
            "image/png": "[encoded data removed]"
          },
          "metadata": {}
        }
      ],
      "source": [
        "plt.figure(figsize=(10,5))\n",
        "sns.barplot(x = multilabel_count.iloc[1:].index, y = multilabel_count.iloc[1:].values);\n",
        "plt.title(\"Number of labels assigned to comments\");\n",
        "plt.xlabel(\"Number of labels\", fontsize=12);\n",
        "plt.ylabel(\"Number of comments\",fontsize=12);"
      ]
    },
    {
      "cell_type": "code",
      "execution_count": 22,
      "metadata": {
        "colab": {
          "base_uri": "https://localhost:8080/"
        },
        "id": "RCw0ABQMFiOw",
        "outputId": "131dc81a-10a0-4631-9c16-8a5ca8fe1e65"
      },
      "outputs": [
        {
          "output_type": "stream",
          "name": "stdout",
          "text": [
            "Number of comments with no any labels(clean tweet): 143346\n",
            "Percentage of comments with no any labels: 89.832%\n",
            "There are very high number, about 90% of the comments that do not have any toxic labels assigned to them.\n"
          ]
        }
      ],
      "source": [
        "print(f'Number of comments with no any labels(clean tweet): {multilabel_count.iloc[0]}')\n",
        "print(f'Percentage of comments with no any labels: {round(multilabel_count.iloc[0]/len(df) * 100,3)}%')\n",
        "print(\"There are very high number, about 90% of the comments that do not have any toxic labels assigned to them.\")"
      ]
    },
    {
      "cell_type": "code",
      "execution_count": 23,
      "metadata": {
        "colab": {
          "base_uri": "https://localhost:8080/"
        },
        "id": "42vba8mJFvyC",
        "outputId": "227bcbd2-e61f-4172-a777-9729f11b02e2"
      },
      "outputs": [
        {
          "output_type": "stream",
          "name": "stderr",
          "text": [
            "/usr/local/lib/python3.7/dist-packages/distributed/config.py:20: YAMLLoadWarning: calling yaml.load() without Loader=... is deprecated, as the default Loader is unsafe. Please read https://msg.pyyaml.org/load for full details.\n",
            "  defaults = yaml.load(f)\n",
            "[nltk_data] Downloading package stopwords to /root/nltk_data...\n",
            "[nltk_data]   Unzipping corpora/stopwords.zip.\n"
          ]
        }
      ],
      "source": [
        "import wordcloud\n",
        "from wordcloud import WordCloud, STOPWORDS\n",
        "import re \n",
        "import texthero as hero\n",
        "from texthero import preprocessing, wordcloud"
      ]
    },
    {
      "cell_type": "markdown",
      "metadata": {
        "id": "3mrS3ziLI41D"
      },
      "source": [
        "Data Partition"
      ]
    },
    {
      "cell_type": "code",
      "execution_count": 24,
      "metadata": {
        "colab": {
          "base_uri": "https://localhost:8080/"
        },
        "id": "3vITL0K9H-PJ",
        "outputId": "46ec253b-0fab-4209-d062-fb813ea697da"
      },
      "outputs": [
        {
          "output_type": "stream",
          "name": "stdout",
          "text": [
            "Train: (111699, 8)\n",
            "Test: (47872, 8)\n"
          ]
        }
      ],
      "source": [
        "from sklearn.model_selection import train_test_split\n",
        "train, test = train_test_split(df, test_size = 0.3, random_state = 1)\n",
        "# check the size of train and test data\n",
        "print(\"Train:\", train.shape)\n",
        "print(\"Test:\", test.shape)"
      ]
    },
    {
      "cell_type": "code",
      "metadata": {
        "id": "OEUrq1PDawOe"
      },
      "source": [
        "clean_text_pipeline = [\n",
        "               preprocessing.remove_urls, # remove urls\n",
        "               preprocessing.remove_punctuation, # remove punctuation\n",
        "               preprocessing.remove_digits, # remove numbers\n",
        "               preprocessing.remove_diacritics,\n",
        "               preprocessing.lowercase, # convert to lowercase\n",
        "               preprocessing.remove_stopwords, # remove stopwords\n",
        "               preprocessing.remove_whitespace , # remove any extra spaces\n",
        "               preprocessing.stem # stemming of the words\n",
        "               ]"
      ],
      "execution_count": 28,
      "outputs": []
    },
    {
      "cell_type": "code",
      "metadata": {
        "id": "B0OGhmclrxWQ"
      },
      "source": [
        "# applying the processing pipeline\n",
        "train['clean_text'] = hero.clean(train['comment_text'], clean_text_pipeline)\n",
        "test['clean_text'] = hero.clean(test['comment_text'], clean_text_pipeline)"
      ],
      "execution_count": 29,
      "outputs": []
    },
    {
      "cell_type": "markdown",
      "metadata": {
        "id": "vTJBFXqAKZ4k"
      },
      "source": [
        "Vectorization - Bag Of Words"
      ]
    },
    {
      "cell_type": "code",
      "execution_count": 30,
      "metadata": {
        "colab": {
          "base_uri": "https://localhost:8080/"
        },
        "id": "W39xIHZ5KXIk",
        "outputId": "9be02545-13f5-4bb7-db38-e5b3c8294244"
      },
      "outputs": [
        {
          "output_type": "execute_result",
          "data": {
            "text/plain": [
              "TfidfVectorizer(max_features=1000, min_df=2, ngram_range=(1, 2))"
            ]
          },
          "metadata": {},
          "execution_count": 30
        }
      ],
      "source": [
        "from sklearn.feature_extraction.text import TfidfVectorizer\n",
        "# separate features and labels\n",
        "labels = ['toxic','severe_toxic', 'obscene', 'threat', 'insult', 'identity_hate']\n",
        "\n",
        "x_train = train.loc[:,'clean_text']\n",
        "y_train = train[labels]\n",
        "\n",
        "x_test = test.loc[:,'clean_text']\n",
        "y_test = test[labels]\n",
        "# tfdif vectorizer with 1 and 2 ngrams\n",
        "tfidf_vec = TfidfVectorizer(ngram_range=(1,2), \n",
        "                            min_df=2, \n",
        "                            max_features=1000)\n",
        "tfidf_vec.fit(x_train)"
      ]
    },
    {
      "cell_type": "code",
      "execution_count": 31,
      "metadata": {
        "colab": {
          "base_uri": "https://localhost:8080/"
        },
        "id": "6JlHwLOmKeiM",
        "outputId": "bba6a2e3-5683-464a-bb7d-b21bf17c3f58"
      },
      "outputs": [
        {
          "output_type": "execute_result",
          "data": {
            "text/plain": [
              "<111699x1000 sparse matrix of type '<class 'numpy.float64'>'\n",
              "\twith 2005417 stored elements in Compressed Sparse Row format>"
            ]
          },
          "metadata": {},
          "execution_count": 31
        }
      ],
      "source": [
        "# trasform train and test\n",
        "train_tfidf = tfidf_vec.transform(x_train)\n",
        "test_tfidf = tfidf_vec.transform(x_test)\n",
        "train_tfidf"
      ]
    },
    {
      "cell_type": "code",
      "execution_count": 32,
      "metadata": {
        "colab": {
          "base_uri": "https://localhost:8080/"
        },
        "id": "i0sEFMUnKv-5",
        "outputId": "5e9f3501-7dc3-4c21-d33c-194ba010354b"
      },
      "outputs": [
        {
          "output_type": "stream",
          "name": "stdout",
          "text": [
            "['abl', 'absolut', 'abus', 'academ', 'accept', 'access', 'accord', 'account', 'accur', 'accus', 'across', 'act', 'action', 'activ', 'actual', 'ad', 'add', 'addit', 'address', 'admin', 'administr', 'admit', 'advertis', 'advic', 'afd', 'age', 'ago', 'agre', 'aid', 'air', 'album', 'align', 'alleg', 'allow', 'almost', 'alon', 'along', 'alreadi', 'also', 'altern', 'although', 'alway', 'america', 'american', 'among', 'amount', 'anim', 'anonym', 'anoth', 'answer', 'anti', 'anyon', 'anyth', 'anyway', 'apolog', 'appar', 'appear', 'appli', 'appreci', 'appropri', 'april', 'arab', 'archiv', 'area', 'argu', 'argument', 'around', 'art', 'articl', 'articl delet', 'articl talk', 'articl would', 'ask', 'ask question', 'ass', 'ass ass', 'assert', 'asshol', 'associ', 'assum', 'attack', 'attempt', 'attent', 'august', 'author', 'automat', 'avail', 'avoid', 'awar', 'award', 'away', 'back', 'background', 'background color', 'bad', 'ball', 'ball ball', 'ban', 'band', 'bark', 'barnstar', 'base', 'basic', 'battl', 'becom', 'begin', 'behavior', 'behind', 'believ', 'belong', 'best', 'better', 'bias', 'big', 'biographi', 'bit', 'bitch', 'black', 'blank', 'block', 'block edit', 'blog', 'board', 'bodi', 'book', 'border', 'born', 'bot', 'bother', 'box', 'break', 'bring', 'british', 'build', 'bullshit', 'bullshit bullshit', 'busi', 'call', 'came', 'cannot', 'care', 'case', 'categori', 'caus', 'centuri', 'certain', 'chanc', 'chang', 'charact', 'check', 'cheer', 'children', 'china', 'christian', 'church', 'citat', 'cite', 'citi', 'civil', 'claim', 'class', 'clean', 'clear', 'click', 'close', 'club', 'code', 'color', 'com', 'come', 'comment', 'common', 'communiti', 'compani', 'compar', 'complet', 'comput', 'concept', 'concern', 'confirm', 'conflict', 'confus', 'connect', 'consensus', 'consid', 'consist', 'constitut', 'construct', 'contact', 'contain', 'content', 'contest', 'context', 'continu', 'contrib', 'contribut', 'contributor', 'control', 'controversi', 'cool', 'copi', 'copyright', 'correct', 'could', 'count', 'countri', 'coupl', 'cours', 'court', 'cover', 'creat', 'creation', 'criteria', 'criteria speedi', 'critic', 'cultur', 'cunt', 'current', 'cut', 'data', 'date', 'day', 'de', 'dead', 'deal', 'dear', 'death', 'debat', 'decid', 'decis', 'defend', 'defin', 'definit', 'delet', 'delet articl', 'describ', 'descript', 'deserv', 'design', 'detail', 'determin', 'develop', 'dick', 'dickhead', 'die', 'differ', 'direct', 'disagre', 'discuss', 'discuss page', 'disput', 'disrupt', 'document', 'dog', 'done', 'dont', 'doubt', 'drop', 'due', 'earli', 'earlier', 'eat', 'edit', 'edit articl', 'edit page', 'edit summari', 'edit war', 'edit wikipedia', 'editor', 'educ', 'effect', 'effort', 'either', 'elect', 'els', 'email', 'encyclopedia', 'end', 'engag', 'english', 'enjoy', 'enough', 'entir', 'entri', 'episod', 'equal', 'error', 'especi', 'establish', 'etc', 'ethnic', 'even', 'even though', 'event', 'ever', 'everi', 'everyon', 'everyth', 'evid', 'exact', 'exampl', 'except', 'exist', 'expand', 'expect', 'experi', 'expert', 'explain', 'explan', 'express', 'extern', 'extern link', 'extrem', 'eye', 'face', 'fact', 'factual', 'faggot', 'fail', 'fair', 'fair use', 'faith', 'fals', 'famili', 'fan', 'far', 'fat', 'fat jew', 'featur', 'feel', 'feel free', 'field', 'fight', 'figur', 'file', 'film', 'final', 'find', 'fine', 'fire', 'first', 'fish', 'fish fish', 'fit', 'five', 'five pillar', 'fix', 'flag', 'focus', 'follow', 'forc', 'form', 'format', 'former', 'found', 'four', 'four tild', 'free', 'freedom', 'french', 'friend', 'fuck', 'fuck fuck', 'full', 'futur', 'game', 'gave', 'gay', 'general', 'german', 'get', 'give', 'given', 'go', 'go fuck', 'god', 'goe', 'good', 'good faith', 'googl', 'got', 'govern', 'great', 'greek', 'group', 'guess', 'guid', 'guidelin', 'guy', 'half', 'hand', 'happen', 'happi', 'harass', 'hard', 'hate', 'hate hate', 'head', 'hear', 'heard', 'hell', 'hello', 'help', 'help page', 'hey', 'hi', 'hi moron', 'high', 'histor', 'histori', 'hit', 'hold', 'home', 'honest', 'hope', 'hour', 'hous', 'howev', 'huge', 'human', 'idea', 'identifi', 'idiot', 'ignor', 'im', 'imag', 'impli', 'import', 'improv', 'inappropri', 'incid', 'includ', 'inclus', 'incorrect', 'inde', 'independ', 'india', 'indian', 'indic', 'individu', 'info', 'infobox', 'inform', 'initi', 'insert', 'instead', 'insult', 'intend', 'intent', 'interest', 'intern', 'internet', 'interpret', 'investig', 'involv', 'ip', 'ip address', 'irrelev', 'islam', 'israel', 'issu', 'januari', 'jew', 'jew fat', 'jewish', 'job', 'john', 'join', 'joke', 'jpg', 'juli', 'june', 'justifi', 'keep', 'kill', 'kind', 'king', 'know', 'knowledg', 'known', 'label', 'lack', 'languag', 'larg', 'last', 'later', 'law', 'lead', 'learn', 'least', 'leav', 'leav note', 'left', 'legal', 'less', 'let', 'let know', 'letter', 'level', 'licens', 'lie', 'life', 'light', 'like', 'limit', 'line', 'link', 'list', 'littl', 'live', 'local', 'locat', 'log', 'logic', 'lol', 'lol lol', 'long', 'longer', 'look', 'look like', 'lost', 'lot', 'love', 'made', 'mail', 'main', 'major', 'make', 'man', 'manag', 'mani', 'manual', 'manual style', 'map', 'march', 'mark', 'match', 'materi', 'matter', 'may', 'may delet', 'mayb', 'mean', 'meant', 'media', 'meet', 'member', 'men', 'mention', 'mere', 'merg', 'messag', 'might', 'militari', 'million', 'mind', 'mine', 'minor', 'minut', 'miss', 'mistak', 'modern', 'month', 'moron', 'moron hi', 'mother', 'move', 'movement', 'movi', 'mr', 'much', 'multipl', 'murder', 'music', 'muslim', 'must', 'name', 'nation', 'natur', 'nazi', 'near', 'necessari', 'need', 'need help', 'negat', 'neither', 'neutral', 'never', 'new', 'news', 'next', 'nice', 'nigger', 'nigger nigger', 'nobodi', 'nomin', 'non', 'none', 'nonsens', 'normal', 'north', 'notabl', 'note', 'noth', 'notic', 'npov', 'number', 'object', 'obvious', 'octob', 'offens', 'offer', 'offic', 'offici', 'often', 'oh', 'ok', 'okay', 'old', 'one', 'onlin', 'open', 'oper', 'opinion', 'oppos', 'order', 'organ', 'origin', 'origin research', 'other', 'otherwis', 'outsid', 'page', 'page edit', 'page thank', 'page use', 'paper', 'paragraph', 'part', 'parti', 'particip', 'particular', 'pass', 'past', 'peni', 'peopl', 'per', 'perfect', 'perhap', 'period', 'person', 'person attack', 'photo', 'phrase', 'physic', 'pictur', 'piec', 'pig', 'pig pig', 'pillar', 'place', 'plan', 'play', 'pleas', 'pleas add', 'pleas remov', 'pleas see', 'pleas stop', 'pleas use', 'point', 'point view', 'polici', 'polit', 'poor', 'popul', 'popular', 'posit', 'possibl', 'post', 'pov', 'power', 'practic', 'preced', 'prefer', 'present', 'presid', 'press', 'pretti', 'prevent', 'previous', 'primari', 'pro', 'probabl', 'problem', 'process', 'produc', 'product', 'program', 'project', 'promot', 'proof', 'proper', 'propos', 'protect', 'prove', 'provid', 'public', 'publish', 'purpos', 'push', 'put', 'qualiti', 'question', 'quick', 'quit', 'quot', 'race', 'rais', 'rape', 'rate', 'rather', 'rational', 'reach', 'read', 'reader', 'real', 'realiz', 'realli', 'reason', 'receiv', 'recent', 'record', 'red', 'redirect', 'redirect talk', 'refer', 'referenc', 'reflect', 'refus', 'regard', 'region', 'relat', 'releas', 'relev', 'reliabl', 'reliabl sourc', 'religi', 'religion', 'remain', 'rememb', 'remov', 'repeat', 'replac', 'repli', 'report', 'repres', 'request', 'requir', 'research', 'resolv', 'respect', 'respond', 'respons', 'rest', 'restor', 'result', 'return', 'revert', 'revert edit', 'review', 'revis', 'right', 'rule', 'run', 'russian', 'said', 'sandbox', 'save', 'saw', 'say', 'scholar', 'school', 'scienc', 'scientif', 'search', 'second', 'section', 'see', 'seem', 'seen', 'select', 'self', 'send', 'sens', 'sentenc', 'separ', 'seri', 'serious', 'serv', 'servic', 'set', 'sever', 'sex', 'shall', 'share', 'shit', 'shit shit', 'short', 'show', 'side', 'sign', 'signific', 'similar', 'simpl', 'simpli', 'sinc', 'singl', 'site', 'situat', 'small', 'social', 'sock', 'sockpuppet', 'someon', 'someon els', 'someth', 'sometim', 'song', 'soon', 'sorri', 'sort', 'sound', 'sourc', 'south', 'space', 'spam', 'speak', 'special', 'specif', 'specifi', 'speedi', 'speedi delet', 'spell', 'stand', 'standard', 'start', 'state', 'statement', 'status', 'stay', 'step', 'still', 'stop', 'stori', 'strong', 'stub', 'student', 'studi', 'stuff', 'stupid', 'style', 'subject', 'suck', 'suck suck', 'suggest', 'summari', 'support', 'suppos', 'sure', 'suspect', 'system', 'tabl', 'taco', 'tag', 'take', 'take look', 'taken', 'talk', 'talk contrib', 'talk page', 'team', 'tell', 'templat', 'term', 'test', 'text', 'thank', 'thank contribut', 'theori', 'therefor', 'thing', 'think', 'third', 'though', 'thought', 'threat', 'three', 'thus', 'tild', 'time', 'titl', 'today', 'togeth', 'told', 'took', 'top', 'topic', 'total', 'toward', 'translat', 'tri', 'troll', 'true', 'truth', 'turn', 'tutori', 'tv', 'two', 'type', 'uk', 'unblock', 'understand', 'unfortun', 'unit', 'unit state', 'univers', 'unless', 'unsign', 'updat', 'upload', 'upon', 'us', 'use', 'use sandbox', 'user', 'user page', 'user talk', 'usernam', 'usual', 'utc', 'valid', 'valu', 'vandal', 'vandal page', 'various', 'verifi', 'version', 'video', 'view', 'violat', 'vote', 'wait', 'wanker', 'wanker wanker', 'want', 'war', 'warn', 'wast', 'watch', 'way', 'web', 'websit', 'week', 'welcom', 'welcom wikipedia', 'well', 'went', 'whatev', 'whether', 'white', 'whole', 'wide', 'width', 'wiki', 'wikipedia', 'wikipedia articl', 'wikipedia polici', 'wikipedia thank', 'wikipedian', 'wikiproject', 'wish', 'within', 'without', 'women', 'wonder', 'word', 'work', 'world', 'worth', 'would', 'would like', 'wp', 'write', 'written', 'wrong', 'wrote', 'yeah', 'year', 'yes', 'yet']\n"
          ]
        },
        {
          "output_type": "stream",
          "name": "stderr",
          "text": [
            "/usr/local/lib/python3.7/dist-packages/sklearn/utils/deprecation.py:87: FutureWarning: Function get_feature_names is deprecated; get_feature_names is deprecated in 1.0 and will be removed in 1.2. Please use get_feature_names_out instead.\n",
            "  warnings.warn(msg, category=FutureWarning)\n"
          ]
        }
      ],
      "source": [
        "# extracted features\n",
        "print(tfidf_vec.get_feature_names())"
      ]
    },
    {
      "cell_type": "markdown",
      "metadata": {
        "id": "2fa03vesWcnI"
      },
      "source": [
        "DEEP LEARNING\n",
        "LSTM"
      ]
    },
    {
      "cell_type": "code",
      "execution_count": 33,
      "metadata": {
        "id": "URdJje7hVbjh"
      },
      "outputs": [],
      "source": [
        "import tensorflow as tf\n",
        "from tensorflow.keras.preprocessing.text import Tokenizer\n",
        "from tensorflow.keras.preprocessing.sequence import pad_sequences\n",
        "from tensorflow.keras.models import Sequential\n",
        "from tensorflow.keras.layers import Input,Dense, Bidirectional, Embedding, LSTM, BatchNormalization, Dropout"
      ]
    },
    {
      "cell_type": "code",
      "execution_count": 34,
      "metadata": {
        "id": "Xvt7Aj-XWg2m"
      },
      "outputs": [],
      "source": [
        "# performing some text cleaning\n",
        "clean_text_dl_pipeline = [\n",
        "               preprocessing.remove_urls, # remove urls\n",
        "               preprocessing.remove_diacritics,\n",
        "               preprocessing.remove_punctuation,\n",
        "               preprocessing.remove_digits,\n",
        "               preprocessing.remove_whitespace  # remove any extra spaces\n",
        "               ]\n",
        "train_dl = hero.clean(train['comment_text'], clean_text_dl_pipeline)\n",
        "test_dl = hero.clean(test['comment_text'], clean_text_dl_pipeline)"
      ]
    },
    {
      "cell_type": "code",
      "execution_count": 35,
      "metadata": {
        "id": "lkFuDYhCWlaY"
      },
      "outputs": [],
      "source": [
        "# tokenizing the text\n",
        "VOCAB_SIZE = 10000\n",
        "tokenizer = Tokenizer(num_words=VOCAB_SIZE, oov_token='<unkown>')\n",
        "\n",
        "tokenizer.fit_on_texts(train_dl.values)"
      ]
    },
    {
      "cell_type": "code",
      "execution_count": 36,
      "metadata": {
        "colab": {
          "base_uri": "https://localhost:8080/"
        },
        "id": "5Zt3L8jqWn-B",
        "outputId": "3858795b-25c4-4e49-b78c-4f24951ca726"
      },
      "outputs": [
        {
          "output_type": "stream",
          "name": "stdout",
          "text": [
            "Number of unique words found: 139167\n"
          ]
        }
      ],
      "source": [
        "# Number of unique words found\n",
        "word_index = tokenizer.word_index\n",
        "print(f'Number of unique words found: {len(word_index)}')"
      ]
    },
    {
      "cell_type": "code",
      "execution_count": 37,
      "metadata": {
        "id": "HTD_01Z4WqdQ"
      },
      "outputs": [],
      "source": [
        "# transform train and test data to tokens\n",
        "train_tokens = tokenizer.texts_to_sequences(train_dl.values)\n",
        "test_tokens = tokenizer.texts_to_sequences(test_dl.values)"
      ]
    },
    {
      "cell_type": "code",
      "execution_count": 38,
      "metadata": {
        "colab": {
          "base_uri": "https://localhost:8080/"
        },
        "id": "VsjHWgCnWsy4",
        "outputId": "c0d89362-2aec-4d7a-982f-b34342dc83b9"
      },
      "outputs": [
        {
          "output_type": "stream",
          "name": "stdout",
          "text": [
            "[446, 3820, 384, 55, 4721, 35, 3, 519, 7, 8, 446, 3820, 34, 2, 31, 3820, 1534, 20, 8, 279, 291]\n",
            "[4, 20, 50, 238, 24, 2, 3169, 4980, 1371, 29, 11, 92, 8, 1930, 452, 6, 4722, 207, 1, 149, 66, 1, 50, 16, 1, 19, 913, 177, 4722, 452, 1241, 10, 2, 8508, 6, 759, 9, 4788, 3, 3250, 960, 406, 10, 45, 3169, 5324, 51, 15, 17, 759, 72, 566, 149, 1, 102, 15, 1, 3, 17, 759, 720, 8, 1930, 452, 51, 1657, 172, 10, 9, 15, 228, 6, 2, 2238, 452]\n",
            "[4, 196, 362, 133, 14, 899, 362, 26, 4, 55, 362, 532, 11, 5, 10, 27, 8, 362, 249, 86, 586, 362, 5825, 9037, 39, 225]\n",
            "[6167, 2, 1, 6167, 2, 1, 1, 1, 1, 1, 1, 6167, 2, 1, 9, 8, 790, 560, 887, 5, 2, 422, 1, 6, 2, 6167, 790, 560, 760, 1226, 35, 9531, 18, 103, 18, 12, 1384, 3662, 225, 3187, 8144, 5, 8, 2113, 609, 2, 118, 560, 27, 1226, 16, 885, 3, 454, 9531, 24, 8, 1, 3, 9532, 5536, 19, 9920, 887, 4340, 67, 12, 790, 4396, 148, 85, 6167, 46, 634, 52, 6, 2, 242, 19, 210, 428, 790, 560, 1155, 24, 69, 760, 346, 2694, 61, 96, 975, 3649, 12, 134, 1752, 38, 9531, 102, 8, 726, 12, 6167, 19, 935, 9533, 1, 1, 5, 1757, 1, 1, 21, 648, 4341, 24, 2, 935, 6, 2, 887, 8, 1466, 391, 355, 1, 1, 66, 46, 2, 1518, 3, 851, 38, 1, 1, 5, 2, 1518, 3, 1, 145, 8, 2800, 2547, 3, 432, 3760, 14, 9, 8, 616, 228, 6, 2, 9534, 6, 2, 760]\n",
            "[498, 563, 3, 8, 3902, 6, 2, 803, 222, 2, 1, 5, 2, 8644, 4911, 4, 284, 1, 1264, 428, 18, 2, 1, 867, 1366, 1]\n"
          ]
        }
      ],
      "source": [
        "for seq in train_tokens[:5]:\n",
        "  print(seq)"
      ]
    },
    {
      "cell_type": "code",
      "execution_count": 39,
      "metadata": {
        "colab": {
          "base_uri": "https://localhost:8080/",
          "height": 295
        },
        "id": "YLwl7hpnWygz",
        "outputId": "127e74eb-e09b-4ae0-ecac-3f6fe3c82f56"
      },
      "outputs": [
        {
          "output_type": "display_data",
          "data": {
            "text/plain": [
              "<Figure size 432x288 with 1 Axes>"
            ],
            "image/png": "[encoded data removed]"
          },
          "metadata": {}
        }
      ],
      "source": [
        "# visualize the distribution of text lenghts\n",
        "text_lengths = [len(seq) for seq in train_tokens]\n",
        "plt.hist(text_lengths, bins=100);\n",
        "plt.title(\"Distribution of text lengths in train data\");\n",
        "plt.xlabel('Text Lengths');\n",
        "plt.ylabel(\"Number of Comments\");"
      ]
    },
    {
      "cell_type": "code",
      "execution_count": 40,
      "metadata": {
        "colab": {
          "base_uri": "https://localhost:8080/"
        },
        "id": "EqRUR4kqW1jg",
        "outputId": "6b845ae5-d6ba-4707-b6c5-0a4c932a9153"
      },
      "outputs": [
        {
          "output_type": "stream",
          "name": "stdout",
          "text": [
            "Mean length of text sequences: 67.6711071719532\n",
            "We see majority of comments have text lenghts of around 200. So, we will pad our texts to the length of 200.\n"
          ]
        }
      ],
      "source": [
        "print(f'Mean length of text sequences: {np.mean(text_lengths)}')\n",
        "print(\"We see majority of comments have text lenghts of around 200. So, we will pad our texts to the length of 200.\")"
      ]
    },
    {
      "cell_type": "code",
      "execution_count": 41,
      "metadata": {
        "id": "WKXLtHgLW-pg"
      },
      "outputs": [],
      "source": [
        "PAD_LENGTH = 200\n",
        "train_padded = pad_sequences(train_tokens, maxlen = PAD_LENGTH,padding='post',truncating='post')\n",
        "test_padded = pad_sequences(test_tokens, maxlen = PAD_LENGTH,padding='post',truncating='post')"
      ]
    },
    {
      "cell_type": "code",
      "execution_count": 42,
      "metadata": {
        "colab": {
          "base_uri": "https://localhost:8080/"
        },
        "id": "fqBJqtoCXCwA",
        "outputId": "63204326-17a8-4ce2-dc8b-d6665674559b"
      },
      "outputs": [
        {
          "output_type": "stream",
          "name": "stdout",
          "text": [
            "Model: \"sequential\"\n",
            "_________________________________________________________________\n",
            " Layer (type)                Output Shape              Param #   \n",
            "=================================================================\n",
            " embedding (Embedding)       (None, None, 300)         3000300   \n",
            "                                                                 \n",
            " lstm (LSTM)                 (None, 50)                70200     \n",
            "                                                                 \n",
            " dense (Dense)               (None, 512)               26112     \n",
            "                                                                 \n",
            " batch_normalization (BatchN  (None, 512)              2048      \n",
            " ormalization)                                                   \n",
            "                                                                 \n",
            " dropout (Dropout)           (None, 512)               0         \n",
            "                                                                 \n",
            " dense_1 (Dense)             (None, 6)                 3078      \n",
            "                                                                 \n",
            "=================================================================\n",
            "Total params: 3,101,738\n",
            "Trainable params: 3,100,714\n",
            "Non-trainable params: 1,024\n",
            "_________________________________________________________________\n"
          ]
        }
      ],
      "source": [
        "# create the model\n",
        "model = Sequential()\n",
        "model.add(Input(shape=(None,)))\n",
        "\n",
        "# Embedding layer\n",
        "model.add(Embedding(input_dim=VOCAB_SIZE+1, output_dim=300, \n",
        "                    input_length=PAD_LENGTH, mask_zero=True))\n",
        "\n",
        "# LSTM layer\n",
        "model.add(LSTM(units= 50, dropout=0.4, return_sequences=False))\n",
        "# Dense layer\n",
        "model.add(Dense(512, activation='relu'))\n",
        "model.add(BatchNormalization())\n",
        "model.add(Dropout(0.4))\n",
        "model.add(Dense(6, activation='sigmoid'))\n",
        "\n",
        "model.summary()"
      ]
    },
    {
      "cell_type": "code",
      "execution_count": 43,
      "metadata": {
        "colab": {
          "base_uri": "https://localhost:8080/",
          "height": 661
        },
        "id": "Q-7fDd07t1tU",
        "outputId": "7aff7545-7673-48f0-ffdc-11096b8631b0"
      },
      "outputs": [
        {
          "output_type": "execute_result",
          "data": {
            "text/plain": [
              "<IPython.core.display.Image object>"
            ],
            "image/png": "[encoded data removed]"
          },
          "metadata": {},
          "execution_count": 43
        }
      ],
      "source": [
        "tf.keras.utils.plot_model(model,show_layer_names=True)"
      ]
    },
    {
      "cell_type": "code",
      "execution_count": null,
      "metadata": {
        "colab": {
          "base_uri": "https://localhost:8080/"
        },
        "id": "dipBD6GmXJMg",
        "outputId": "17fc12d5-a81e-45a5-a42a-0ce44cab605f"
      },
      "outputs": [
        {
          "name": "stderr",
          "output_type": "stream",
          "text": [
            "/usr/local/lib/python3.7/dist-packages/keras/optimizer_v2/adam.py:105: UserWarning: The `lr` argument is deprecated, use `learning_rate` instead.\n"
          ]
        }
      ],
      "source": [
        "# compile the model\n",
        "model.compile(tf.keras.optimizers.Adam(lr = 5e-4),\n",
        "              loss=tf.keras.losses.BinaryCrossentropy(from_logits=True),\n",
        "              metrics=[tf.metrics.BinaryAccuracy(),tf.metrics.AUC(multi_label=True, name='auc')])"
      ]
    },
    {
      "cell_type": "code",
      "execution_count": null,
      "metadata": {
        "id": "x2XT621EXOv5"
      },
      "outputs": [],
      "source": [
        "callbacks = [tf.keras.callbacks.ModelCheckpoint('best_lstm_model', save_best_only=True),\n",
        "             tf.keras.callbacks.ReduceLROnPlateau(monitor='val_loss', patience=2, factor=0.2),\n",
        "              tf.keras.callbacks.EarlyStopping(monitor='val_loss', patience=4)]"
      ]
    },
    {
      "cell_type": "code",
      "execution_count": null,
      "metadata": {
        "colab": {
          "base_uri": "https://localhost:8080/"
        },
        "id": "7P_aWbVeXRpo",
        "outputId": "3dad0376-38ee-46ac-a207-451dbda63d86"
      },
      "outputs": [
        {
          "name": "stdout",
          "output_type": "stream",
          "text": [
            "Epoch 1/2\n",
            "3491/3491 [==============================] - ETA: 0s - loss: 0.0618 - binary_accuracy: 0.9790 - auc: 0.9412WARNING:tensorflow:AutoGraph could not transform <function Model.make_test_function.<locals>.test_function at 0x7fbbabc17290> and will run it as-is.\n",
            "Please report this to the TensorFlow team. When filing the bug, set the verbosity to 10 (on Linux, `export AUTOGRAPH_VERBOSITY=10`) and attach the full output.\n",
            "Cause: closure mismatch, requested ('self', 'step_function'), but source function had ()\n",
            "To silence this warning, decorate the function with @tf.autograph.experimental.do_not_convert\n",
            "WARNING: AutoGraph could not transform <function Model.make_test_function.<locals>.test_function at 0x7fbbabc17290> and will run it as-is.\n",
            "Please report this to the TensorFlow team. When filing the bug, set the verbosity to 10 (on Linux, `export AUTOGRAPH_VERBOSITY=10`) and attach the full output.\n",
            "Cause: closure mismatch, requested ('self', 'step_function'), but source function had ()\n",
            "To silence this warning, decorate the function with @tf.autograph.experimental.do_not_convert\n"
          ]
        },
        {
          "name": "stderr",
          "output_type": "stream",
          "text": [
            "/usr/local/lib/python3.7/dist-packages/tensorflow/python/util/dispatch.py:1082: UserWarning: \"`binary_crossentropy` received `from_logits=True`, but the `output` argument was produced by a sigmoid or softmax activation and thus does not represent logits. Was this intended?\"\n",
            "  return dispatch_target(*args, **kwargs)\n",
            "WARNING:absl:Found untraced functions such as lstm_cell_layer_call_fn, lstm_cell_layer_call_and_return_conditional_losses while saving (showing 2 of 2). These functions will not be directly callable after loading.\n"
          ]
        },
        {
          "name": "stdout",
          "output_type": "stream",
          "text": [
            "INFO:tensorflow:Assets written to: best_lstm_model/assets\n"
          ]
        },
        {
          "name": "stderr",
          "output_type": "stream",
          "text": [
            "INFO:tensorflow:Assets written to: best_lstm_model/assets\n",
            "WARNING:absl:<keras.layers.recurrent.LSTMCell object at 0x7fbb9f5d6f50> has the same name 'LSTMCell' as a built-in Keras object. Consider renaming <class 'keras.layers.recurrent.LSTMCell'> to avoid naming conflicts when loading with `tf.keras.models.load_model`. If renaming is not possible, pass the object in the `custom_objects` parameter of the load function.\n"
          ]
        },
        {
          "name": "stdout",
          "output_type": "stream",
          "text": [
            "3491/3491 [==============================] - 1059s 303ms/step - loss: 0.0618 - binary_accuracy: 0.9790 - auc: 0.9412 - val_loss: 0.0542 - val_binary_accuracy: 0.9808 - val_auc: 0.9594 - lr: 5.0000e-04\n",
            "Epoch 2/2\n",
            "3491/3491 [==============================] - ETA: 0s - loss: 0.0528 - binary_accuracy: 0.9809 - auc: 0.9622"
          ]
        },
        {
          "name": "stderr",
          "output_type": "stream",
          "text": [
            "WARNING:absl:Found untraced functions such as lstm_cell_layer_call_fn, lstm_cell_layer_call_and_return_conditional_losses while saving (showing 2 of 2). These functions will not be directly callable after loading.\n"
          ]
        },
        {
          "name": "stdout",
          "output_type": "stream",
          "text": [
            "INFO:tensorflow:Assets written to: best_lstm_model/assets\n"
          ]
        },
        {
          "name": "stderr",
          "output_type": "stream",
          "text": [
            "INFO:tensorflow:Assets written to: best_lstm_model/assets\n",
            "WARNING:absl:<keras.layers.recurrent.LSTMCell object at 0x7fbb9f5d6f50> has the same name 'LSTMCell' as a built-in Keras object. Consider renaming <class 'keras.layers.recurrent.LSTMCell'> to avoid naming conflicts when loading with `tf.keras.models.load_model`. If renaming is not possible, pass the object in the `custom_objects` parameter of the load function.\n"
          ]
        },
        {
          "name": "stdout",
          "output_type": "stream",
          "text": [
            "\b\b\b\b\b\b\b\b\b\b\b\b\b\b\b\b\b\b\b\b\b\b\b\b\b\b\b\b\b\b\b\b\b\b\b\b\b\b\b\b\b\b\b\b\b\b\b\b\b\b\b\b\b\b\b\b\b\b\b\b\b\b\b\b\b\b\b\b\b\b\b\b\b\b\b\b\b\b\b\b\b\b\b\b\b\b\b\b\b\b\b\b\b\b\b\b\b\b\b\b\b\b\b\b\b\b\b\r3491/3491 [==============================] - 1033s 296ms/step - loss: 0.0528 - binary_accuracy: 0.9809 - auc: 0.9622 - val_loss: 0.0535 - val_binary_accuracy: 0.9810 - val_auc: 0.9598 - lr: 5.0000e-04\n"
          ]
        }
      ],
      "source": [
        "# fit the model\n",
        "lstm_history = model.fit(train_padded, y_train,\n",
        "                         validation_data = (test_padded, y_test),\n",
        "                         batch_size=32,\n",
        "                         epochs = 2, callbacks = callbacks)"
      ]
    },
    {
      "cell_type": "markdown",
      "metadata": {
        "id": "eWxJz-BqX2Hg"
      },
      "source": [
        "Here we see that already after 2 epochs, the model is showing overfitting behavior, where train loss and auc improves, but for validation data there is no improvement."
      ]
    },
    {
      "cell_type": "code",
      "execution_count": null,
      "metadata": {
        "id": "DkWGsuI2X2yQ"
      },
      "outputs": [],
      "source": [
        "best_model = tf.keras.models.load_model('best_lstm_model')"
      ]
    },
    {
      "cell_type": "code",
      "execution_count": null,
      "metadata": {
        "colab": {
          "base_uri": "https://localhost:8080/"
        },
        "id": "Ws-IeXTZX5Sw",
        "outputId": "3d4001c0-95c8-4e1a-babf-8da5f8672aeb"
      },
      "outputs": [
        {
          "name": "stdout",
          "output_type": "stream",
          "text": [
            "WARNING:tensorflow:AutoGraph could not transform <function Model.make_test_function.<locals>.test_function at 0x7fbba2992e60> and will run it as-is.\n",
            "Please report this to the TensorFlow team. When filing the bug, set the verbosity to 10 (on Linux, `export AUTOGRAPH_VERBOSITY=10`) and attach the full output.\n",
            "Cause: closure mismatch, requested ('self', 'step_function'), but source function had ()\n",
            "To silence this warning, decorate the function with @tf.autograph.experimental.do_not_convert\n"
          ]
        },
        {
          "name": "stderr",
          "output_type": "stream",
          "text": [
            "WARNING:tensorflow:AutoGraph could not transform <function Model.make_test_function.<locals>.test_function at 0x7fbba2992e60> and will run it as-is.\n",
            "Please report this to the TensorFlow team. When filing the bug, set the verbosity to 10 (on Linux, `export AUTOGRAPH_VERBOSITY=10`) and attach the full output.\n",
            "Cause: closure mismatch, requested ('self', 'step_function'), but source function had ()\n",
            "To silence this warning, decorate the function with @tf.autograph.experimental.do_not_convert\n"
          ]
        },
        {
          "name": "stdout",
          "output_type": "stream",
          "text": [
            "WARNING: AutoGraph could not transform <function Model.make_test_function.<locals>.test_function at 0x7fbba2992e60> and will run it as-is.\n",
            "Please report this to the TensorFlow team. When filing the bug, set the verbosity to 10 (on Linux, `export AUTOGRAPH_VERBOSITY=10`) and attach the full output.\n",
            "Cause: closure mismatch, requested ('self', 'step_function'), but source function had ()\n",
            "To silence this warning, decorate the function with @tf.autograph.experimental.do_not_convert\n"
          ]
        },
        {
          "name": "stderr",
          "output_type": "stream",
          "text": [
            "/usr/local/lib/python3.7/dist-packages/tensorflow/python/util/dispatch.py:1082: UserWarning: \"`binary_crossentropy` received `from_logits=True`, but the `output` argument was produced by a sigmoid or softmax activation and thus does not represent logits. Was this intended?\"\n",
            "  return dispatch_target(*args, **kwargs)\n"
          ]
        },
        {
          "name": "stdout",
          "output_type": "stream",
          "text": [
            "1496/1496 [==============================] - 80s 52ms/step - loss: 0.0535 - binary_accuracy: 0.9810 - auc: 0.9598\n",
            "Accuracy : 0.981\n",
            "Auc : 0.9598\n",
            "Logloss : 0.0535\n"
          ]
        }
      ],
      "source": [
        "# evaluation\n",
        "loss, accuracy, auc = best_model.evaluate(test_padded, y_test)\n",
        "\n",
        "print(f'Accuracy : {np.round(accuracy,4)}')\n",
        "print(f'Auc : {np.round(auc,4)}')\n",
        "print(f'Logloss : {np.round(loss,4)}')"
      ]
    },
    {
      "cell_type": "markdown",
      "metadata": {
        "id": "8Uf7cshoYKew"
      },
      "source": [
        "The results from the LSTM gave improvements over Logistic Regression model for the metrics Accuracy and logloss, but the AUC score is similar. So, with improvement for two of the metrics, we can still consider LSTM to be performing better than the Logistic Regression Model.\n",
        "\n",
        "Now, for our final model, we will apply transfer learning with BERT, which has been the state of the art model for NLP task at the moment."
      ]
    },
    {
      "cell_type": "code",
      "execution_count": null,
      "metadata": {
        "id": "7bkfFcHS3uLN"
      },
      "outputs": [],
      "source": [
        "lstm_model = tf.keras.models.load_model('best_lstm_model')"
      ]
    },
    {
      "cell_type": "code",
      "execution_count": null,
      "metadata": {
        "colab": {
          "base_uri": "https://localhost:8080/",
          "height": 206
        },
        "id": "DoXwHD1Z4Ofo",
        "outputId": "685b6e1b-1bc4-4a12-f646-e0260434d721"
      },
      "outputs": [
        {
          "data": {
            "text/html": [
              "\n",
              "  <div id=\"df-5fc13571-113d-4051-bd1e-368ddb3a0b55\">\n",
              "    <div class=\"colab-df-container\">\n",
              "      <div>\n",
              "<style scoped>\n",
              "    .dataframe tbody tr th:only-of-type {\n",
              "        vertical-align: middle;\n",
              "    }\n",
              "\n",
              "    .dataframe tbody tr th {\n",
              "        vertical-align: top;\n",
              "    }\n",
              "\n",
              "    .dataframe thead th {\n",
              "        text-align: right;\n",
              "    }\n",
              "</style>\n",
              "<table border=\"1\" class=\"dataframe\">\n",
              "  <thead>\n",
              "    <tr style=\"text-align: right;\">\n",
              "      <th></th>\n",
              "      <th>id</th>\n",
              "      <th>comment_text</th>\n",
              "    </tr>\n",
              "  </thead>\n",
              "  <tbody>\n",
              "    <tr>\n",
              "      <th>0</th>\n",
              "      <td>00001cee341fdb12</td>\n",
              "      <td>Yo bitch Ja Rule is more succesful then you'll...</td>\n",
              "    </tr>\n",
              "    <tr>\n",
              "      <th>1</th>\n",
              "      <td>0000247867823ef7</td>\n",
              "      <td>== From RfC == \\n\\n The title is fine as it is...</td>\n",
              "    </tr>\n",
              "    <tr>\n",
              "      <th>2</th>\n",
              "      <td>00013b17ad220c46</td>\n",
              "      <td>\" \\n\\n == Sources == \\n\\n * Zawe Ashton on Lap...</td>\n",
              "    </tr>\n",
              "    <tr>\n",
              "      <th>3</th>\n",
              "      <td>00017563c3f7919a</td>\n",
              "      <td>:If you have a look back at the source, the in...</td>\n",
              "    </tr>\n",
              "    <tr>\n",
              "      <th>4</th>\n",
              "      <td>00017695ad8997eb</td>\n",
              "      <td>I don't anonymously edit articles at all.</td>\n",
              "    </tr>\n",
              "  </tbody>\n",
              "</table>\n",
              "</div>\n",
              "      <button class=\"colab-df-convert\" onclick=\"convertToInteractive('df-5fc13571-113d-4051-bd1e-368ddb3a0b55')\"\n",
              "              title=\"Convert this dataframe to an interactive table.\"\n",
              "              style=\"display:none;\">\n",
              "        \n",
              "  <svg xmlns=\"http://www.w3.org/2000/svg\" height=\"24px\"viewBox=\"0 0 24 24\"\n",
              "       width=\"24px\">\n",
              "    <path d=\"M0 0h24v24H0V0z\" fill=\"none\"/>\n",
              "    <path d=\"M18.56 5.44l.94 2.06.94-2.06 2.06-.94-2.06-.94-.94-2.06-.94 2.06-2.06.94zm-11 1L8.5 8.5l.94-2.06 2.06-.94-2.06-.94L8.5 2.5l-.94 2.06-2.06.94zm10 10l.94 2.06.94-2.06 2.06-.94-2.06-.94-.94-2.06-.94 2.06-2.06.94z\"/><path d=\"M17.41 7.96l-1.37-1.37c-.4-.4-.92-.59-1.43-.59-.52 0-1.04.2-1.43.59L10.3 9.45l-7.72 7.72c-.78.78-.78 2.05 0 2.83L4 21.41c.39.39.9.59 1.41.59.51 0 1.02-.2 1.41-.59l7.78-7.78 2.81-2.81c.8-.78.8-2.07 0-2.86zM5.41 20L4 18.59l7.72-7.72 1.47 1.35L5.41 20z\"/>\n",
              "  </svg>\n",
              "      </button>\n",
              "      \n",
              "  <style>\n",
              "    .colab-df-container {\n",
              "      display:flex;\n",
              "      flex-wrap:wrap;\n",
              "      gap: 12px;\n",
              "    }\n",
              "\n",
              "    .colab-df-convert {\n",
              "      background-color: #E8F0FE;\n",
              "      border: none;\n",
              "      border-radius: 50%;\n",
              "      cursor: pointer;\n",
              "      display: none;\n",
              "      fill: #1967D2;\n",
              "      height: 32px;\n",
              "      padding: 0 0 0 0;\n",
              "      width: 32px;\n",
              "    }\n",
              "\n",
              "    .colab-df-convert:hover {\n",
              "      background-color: #E2EBFA;\n",
              "      box-shadow: 0px 1px 2px rgba(60, 64, 67, 0.3), 0px 1px 3px 1px rgba(60, 64, 67, 0.15);\n",
              "      fill: #174EA6;\n",
              "    }\n",
              "\n",
              "    [theme=dark] .colab-df-convert {\n",
              "      background-color: #3B4455;\n",
              "      fill: #D2E3FC;\n",
              "    }\n",
              "\n",
              "    [theme=dark] .colab-df-convert:hover {\n",
              "      background-color: #434B5C;\n",
              "      box-shadow: 0px 1px 3px 1px rgba(0, 0, 0, 0.15);\n",
              "      filter: drop-shadow(0px 1px 2px rgba(0, 0, 0, 0.3));\n",
              "      fill: #FFFFFF;\n",
              "    }\n",
              "  </style>\n",
              "\n",
              "      <script>\n",
              "        const buttonEl =\n",
              "          document.querySelector('#df-5fc13571-113d-4051-bd1e-368ddb3a0b55 button.colab-df-convert');\n",
              "        buttonEl.style.display =\n",
              "          google.colab.kernel.accessAllowed ? 'block' : 'none';\n",
              "\n",
              "        async function convertToInteractive(key) {\n",
              "          const element = document.querySelector('#df-5fc13571-113d-4051-bd1e-368ddb3a0b55');\n",
              "          const dataTable =\n",
              "            await google.colab.kernel.invokeFunction('convertToInteractive',\n",
              "                                                     [key], {});\n",
              "          if (!dataTable) return;\n",
              "\n",
              "          const docLinkHtml = 'Like what you see? Visit the ' +\n",
              "            '<a target=\"_blank\" href=https://colab.research.google.com/notebooks/data_table.ipynb>data table notebook</a>'\n",
              "            + ' to learn more about interactive tables.';\n",
              "          element.innerHTML = '';\n",
              "          dataTable['output_type'] = 'display_data';\n",
              "          await google.colab.output.renderOutput(dataTable, element);\n",
              "          const docLink = document.createElement('div');\n",
              "          docLink.innerHTML = docLinkHtml;\n",
              "          element.appendChild(docLink);\n",
              "        }\n",
              "      </script>\n",
              "    </div>\n",
              "  </div>\n",
              "  "
            ],
            "text/plain": [
              "                 id                                       comment_text\n",
              "0  00001cee341fdb12  Yo bitch Ja Rule is more succesful then you'll...\n",
              "1  0000247867823ef7  == From RfC == \\n\\n The title is fine as it is...\n",
              "2  00013b17ad220c46  \" \\n\\n == Sources == \\n\\n * Zawe Ashton on Lap...\n",
              "3  00017563c3f7919a  :If you have a look back at the source, the in...\n",
              "4  00017695ad8997eb          I don't anonymously edit articles at all."
            ]
          },
          "execution_count": 40,
          "metadata": {},
          "output_type": "execute_result"
        }
      ],
      "source": [
        "sub_test = pd.read_csv('/content/drive/MyDrive/ST Dataset/test.csv')\n",
        "sub_test.head()"
      ]
    },
    {
      "cell_type": "code",
      "execution_count": null,
      "metadata": {
        "id": "PvWlR8hZto-S"
      },
      "outputs": [],
      "source": [
        "# cleaning text and vectorizing\n",
        "sub_test['clean_text'] = hero.clean(sub_test['comment_text'],clean_text_pipeline)\n",
        "sub_test_vect = tfidf_vec.transform(sub_test['clean_text'])"
      ]
    },
    {
      "cell_type": "code",
      "execution_count": null,
      "metadata": {
        "id": "w6YibOtps2dx"
      },
      "outputs": [],
      "source": [
        "# function to save submission file\n",
        "labels =['toxic', 'severe_toxic', 'obscene', 'threat', 'insult', 'identity_hate']\n",
        "def create_submission_file(test_id, predictions, labels, filename):\n",
        "  pred_df = pd.DataFrame(predictions, columns=labels)\n",
        "  final_sub =pd.concat([test_id,sub_test,pred_df], axis = 1)\n",
        "  final_sub.to_csv(filename, index=False)\n",
        "  print(\"Output Created\")"
      ]
    },
    {
      "cell_type": "code",
      "execution_count": null,
      "metadata": {
        "id": "Bf8SX49j3uv2"
      },
      "outputs": [],
      "source": [
        "lstm_sub = hero.clean(sub_test['comment_text'], clean_text_dl_pipeline)"
      ]
    },
    {
      "cell_type": "code",
      "execution_count": null,
      "metadata": {
        "id": "waqiQLHRxdaX"
      },
      "outputs": [],
      "source": [
        "# tokenizing and paddaing\n",
        "lstm_tokens = tokenizer.texts_to_sequences(lstm_sub)\n",
        "lstm_padded = pad_sequences(lstm_tokens, maxlen=PAD_LENGTH,padding='post', truncating='post')"
      ]
    },
    {
      "cell_type": "code",
      "execution_count": null,
      "metadata": {
        "colab": {
          "base_uri": "https://localhost:8080/"
        },
        "id": "R0F2BPbIwho6",
        "outputId": "11832bb1-8ae5-4e80-ab2c-f5abb06d784c"
      },
      "outputs": [
        {
          "name": "stdout",
          "output_type": "stream",
          "text": [
            "WARNING:tensorflow:AutoGraph could not transform <function Model.make_predict_function.<locals>.predict_function at 0x7fbb9ae3d170> and will run it as-is.\n",
            "Please report this to the TensorFlow team. When filing the bug, set the verbosity to 10 (on Linux, `export AUTOGRAPH_VERBOSITY=10`) and attach the full output.\n",
            "Cause: closure mismatch, requested ('self', 'step_function'), but source function had ()\n",
            "To silence this warning, decorate the function with @tf.autograph.experimental.do_not_convert\n"
          ]
        },
        {
          "name": "stderr",
          "output_type": "stream",
          "text": [
            "WARNING:tensorflow:AutoGraph could not transform <function Model.make_predict_function.<locals>.predict_function at 0x7fbb9ae3d170> and will run it as-is.\n",
            "Please report this to the TensorFlow team. When filing the bug, set the verbosity to 10 (on Linux, `export AUTOGRAPH_VERBOSITY=10`) and attach the full output.\n",
            "Cause: closure mismatch, requested ('self', 'step_function'), but source function had ()\n",
            "To silence this warning, decorate the function with @tf.autograph.experimental.do_not_convert\n"
          ]
        },
        {
          "name": "stdout",
          "output_type": "stream",
          "text": [
            "WARNING: AutoGraph could not transform <function Model.make_predict_function.<locals>.predict_function at 0x7fbb9ae3d170> and will run it as-is.\n",
            "Please report this to the TensorFlow team. When filing the bug, set the verbosity to 10 (on Linux, `export AUTOGRAPH_VERBOSITY=10`) and attach the full output.\n",
            "Cause: closure mismatch, requested ('self', 'step_function'), but source function had ()\n",
            "To silence this warning, decorate the function with @tf.autograph.experimental.do_not_convert\n"
          ]
        }
      ],
      "source": [
        "# make predictions with lstm\n",
        "lstm_pred = lstm_model.predict(lstm_padded)"
      ]
    },
    {
      "cell_type": "code",
      "execution_count": null,
      "metadata": {
        "colab": {
          "base_uri": "https://localhost:8080/"
        },
        "id": "PQBJxscdwhk6",
        "outputId": "6647c085-c118-4ab0-c4e0-7954e758d3da"
      },
      "outputs": [
        {
          "name": "stdout",
          "output_type": "stream",
          "text": [
            "Output Created\n"
          ]
        }
      ],
      "source": [
        "# create submission file\n",
        "create_submission_file(test_id=sub_test['id'], labels = labels, predictions=lstm_pred,\n",
        "                       filename = \"lstm_results.csv\")"
      ]
    },
    {
      "cell_type": "code",
      "execution_count": null,
      "metadata": {
        "id": "EI_7LsHp6FiX"
      },
      "outputs": [],
      "source": [
        ""
      ]
    }
  ],
  "metadata": {
    "colab": {
      "name": "Comparative Study with LSTM Working.ipynb",
      "provenance": [],
      "collapsed_sections": []
    },
    "kernelspec": {
      "display_name": "Python 3",
      "name": "python3"
    },
    "language_info": {
      "name": "python"
    }
  },
  "nbformat": 4,
  "nbformat_minor": 0
}